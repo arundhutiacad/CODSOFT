{
  "nbformat": 4,
  "nbformat_minor": 0,
  "metadata": {
    "colab": {
      "provenance": []
    },
    "kernelspec": {
      "name": "python3",
      "display_name": "Python 3"
    },
    "language_info": {
      "name": "python"
    }
  },
  "cells": [
    {
      "cell_type": "code",
      "source": [
        "from google.colab import drive\n",
        "drive.mount('/content/drive')"
      ],
      "metadata": {
        "colab": {
          "base_uri": "https://localhost:8080/"
        },
        "id": "LYOXUSEOi3eD",
        "outputId": "9eaf7e08-f4ef-4a56-8fdc-b9f3398943a9"
      },
      "execution_count": null,
      "outputs": [
        {
          "output_type": "stream",
          "name": "stdout",
          "text": [
            "Drive already mounted at /content/drive; to attempt to forcibly remount, call drive.mount(\"/content/drive\", force_remount=True).\n"
          ]
        }
      ]
    },
    {
      "cell_type": "markdown",
      "source": [
        "# DATA LOADING AND PREPROCESSING"
      ],
      "metadata": {
        "id": "14QmeuCySPVb"
      }
    },
    {
      "cell_type": "code",
      "source": [
        "import numpy as np\n",
        "import pandas as pd\n",
        "import matplotlib.pyplot as plt"
      ],
      "metadata": {
        "id": "uOv0xTEyi9vi"
      },
      "execution_count": null,
      "outputs": []
    },
    {
      "cell_type": "code",
      "source": [
        "df = pd.read_csv(\"/content/drive/MyDrive/Cod_Soft/car_purchasing.csv\", encoding='latin-1')"
      ],
      "metadata": {
        "id": "rvSLGP9-i9uO"
      },
      "execution_count": null,
      "outputs": []
    },
    {
      "cell_type": "code",
      "source": [
        "df.head()"
      ],
      "metadata": {
        "colab": {
          "base_uri": "https://localhost:8080/",
          "height": 206
        },
        "id": "FbWijznLk8bU",
        "outputId": "b32b2fca-6800-4747-aa86-a5c0be765562"
      },
      "execution_count": null,
      "outputs": [
        {
          "output_type": "execute_result",
          "data": {
            "text/plain": [
              "     customer name                                    customer e-mail  \\\n",
              "0    Martina Avila  cubilia.Curae.Phasellus@quisaccumsanconvallis.edu   \n",
              "1    Harlan Barnes                                eu.dolor@diam.co.uk   \n",
              "2  Naomi Rodriquez  vulputate.mauris.sagittis@ametconsectetueradip...   \n",
              "3  Jade Cunningham                            malesuada@dignissim.com   \n",
              "4     Cedric Leach     felis.ullamcorper.viverra@egetmollislectus.net   \n",
              "\n",
              "        country  gender        age  annual Salary  credit card debt  \\\n",
              "0      Bulgaria       0  41.851720    62812.09301      11609.380910   \n",
              "1        Belize       0  40.870623    66646.89292       9572.957136   \n",
              "2       Algeria       1  43.152897    53798.55112      11160.355060   \n",
              "3  Cook Islands       1  58.271369    79370.03798      14426.164850   \n",
              "4        Brazil       1  57.313749    59729.15130       5358.712177   \n",
              "\n",
              "     net worth  car purchase amount  \n",
              "0  238961.2505          35321.45877  \n",
              "1  530973.9078          45115.52566  \n",
              "2  638467.1773          42925.70921  \n",
              "3  548599.0524          67422.36313  \n",
              "4  560304.0671          55915.46248  "
            ],
            "text/html": [
              "\n",
              "  <div id=\"df-acf58dd9-682a-4c08-9af9-3d6ad184fe7a\" class=\"colab-df-container\">\n",
              "    <div>\n",
              "<style scoped>\n",
              "    .dataframe tbody tr th:only-of-type {\n",
              "        vertical-align: middle;\n",
              "    }\n",
              "\n",
              "    .dataframe tbody tr th {\n",
              "        vertical-align: top;\n",
              "    }\n",
              "\n",
              "    .dataframe thead th {\n",
              "        text-align: right;\n",
              "    }\n",
              "</style>\n",
              "<table border=\"1\" class=\"dataframe\">\n",
              "  <thead>\n",
              "    <tr style=\"text-align: right;\">\n",
              "      <th></th>\n",
              "      <th>customer name</th>\n",
              "      <th>customer e-mail</th>\n",
              "      <th>country</th>\n",
              "      <th>gender</th>\n",
              "      <th>age</th>\n",
              "      <th>annual Salary</th>\n",
              "      <th>credit card debt</th>\n",
              "      <th>net worth</th>\n",
              "      <th>car purchase amount</th>\n",
              "    </tr>\n",
              "  </thead>\n",
              "  <tbody>\n",
              "    <tr>\n",
              "      <th>0</th>\n",
              "      <td>Martina Avila</td>\n",
              "      <td>cubilia.Curae.Phasellus@quisaccumsanconvallis.edu</td>\n",
              "      <td>Bulgaria</td>\n",
              "      <td>0</td>\n",
              "      <td>41.851720</td>\n",
              "      <td>62812.09301</td>\n",
              "      <td>11609.380910</td>\n",
              "      <td>238961.2505</td>\n",
              "      <td>35321.45877</td>\n",
              "    </tr>\n",
              "    <tr>\n",
              "      <th>1</th>\n",
              "      <td>Harlan Barnes</td>\n",
              "      <td>eu.dolor@diam.co.uk</td>\n",
              "      <td>Belize</td>\n",
              "      <td>0</td>\n",
              "      <td>40.870623</td>\n",
              "      <td>66646.89292</td>\n",
              "      <td>9572.957136</td>\n",
              "      <td>530973.9078</td>\n",
              "      <td>45115.52566</td>\n",
              "    </tr>\n",
              "    <tr>\n",
              "      <th>2</th>\n",
              "      <td>Naomi Rodriquez</td>\n",
              "      <td>vulputate.mauris.sagittis@ametconsectetueradip...</td>\n",
              "      <td>Algeria</td>\n",
              "      <td>1</td>\n",
              "      <td>43.152897</td>\n",
              "      <td>53798.55112</td>\n",
              "      <td>11160.355060</td>\n",
              "      <td>638467.1773</td>\n",
              "      <td>42925.70921</td>\n",
              "    </tr>\n",
              "    <tr>\n",
              "      <th>3</th>\n",
              "      <td>Jade Cunningham</td>\n",
              "      <td>malesuada@dignissim.com</td>\n",
              "      <td>Cook Islands</td>\n",
              "      <td>1</td>\n",
              "      <td>58.271369</td>\n",
              "      <td>79370.03798</td>\n",
              "      <td>14426.164850</td>\n",
              "      <td>548599.0524</td>\n",
              "      <td>67422.36313</td>\n",
              "    </tr>\n",
              "    <tr>\n",
              "      <th>4</th>\n",
              "      <td>Cedric Leach</td>\n",
              "      <td>felis.ullamcorper.viverra@egetmollislectus.net</td>\n",
              "      <td>Brazil</td>\n",
              "      <td>1</td>\n",
              "      <td>57.313749</td>\n",
              "      <td>59729.15130</td>\n",
              "      <td>5358.712177</td>\n",
              "      <td>560304.0671</td>\n",
              "      <td>55915.46248</td>\n",
              "    </tr>\n",
              "  </tbody>\n",
              "</table>\n",
              "</div>\n",
              "    <div class=\"colab-df-buttons\">\n",
              "\n",
              "  <div class=\"colab-df-container\">\n",
              "    <button class=\"colab-df-convert\" onclick=\"convertToInteractive('df-acf58dd9-682a-4c08-9af9-3d6ad184fe7a')\"\n",
              "            title=\"Convert this dataframe to an interactive table.\"\n",
              "            style=\"display:none;\">\n",
              "\n",
              "  <svg xmlns=\"http://www.w3.org/2000/svg\" height=\"24px\" viewBox=\"0 -960 960 960\">\n",
              "    <path d=\"M120-120v-720h720v720H120Zm60-500h600v-160H180v160Zm220 220h160v-160H400v160Zm0 220h160v-160H400v160ZM180-400h160v-160H180v160Zm440 0h160v-160H620v160ZM180-180h160v-160H180v160Zm440 0h160v-160H620v160Z\"/>\n",
              "  </svg>\n",
              "    </button>\n",
              "\n",
              "  <style>\n",
              "    .colab-df-container {\n",
              "      display:flex;\n",
              "      gap: 12px;\n",
              "    }\n",
              "\n",
              "    .colab-df-convert {\n",
              "      background-color: #E8F0FE;\n",
              "      border: none;\n",
              "      border-radius: 50%;\n",
              "      cursor: pointer;\n",
              "      display: none;\n",
              "      fill: #1967D2;\n",
              "      height: 32px;\n",
              "      padding: 0 0 0 0;\n",
              "      width: 32px;\n",
              "    }\n",
              "\n",
              "    .colab-df-convert:hover {\n",
              "      background-color: #E2EBFA;\n",
              "      box-shadow: 0px 1px 2px rgba(60, 64, 67, 0.3), 0px 1px 3px 1px rgba(60, 64, 67, 0.15);\n",
              "      fill: #174EA6;\n",
              "    }\n",
              "\n",
              "    .colab-df-buttons div {\n",
              "      margin-bottom: 4px;\n",
              "    }\n",
              "\n",
              "    [theme=dark] .colab-df-convert {\n",
              "      background-color: #3B4455;\n",
              "      fill: #D2E3FC;\n",
              "    }\n",
              "\n",
              "    [theme=dark] .colab-df-convert:hover {\n",
              "      background-color: #434B5C;\n",
              "      box-shadow: 0px 1px 3px 1px rgba(0, 0, 0, 0.15);\n",
              "      filter: drop-shadow(0px 1px 2px rgba(0, 0, 0, 0.3));\n",
              "      fill: #FFFFFF;\n",
              "    }\n",
              "  </style>\n",
              "\n",
              "    <script>\n",
              "      const buttonEl =\n",
              "        document.querySelector('#df-acf58dd9-682a-4c08-9af9-3d6ad184fe7a button.colab-df-convert');\n",
              "      buttonEl.style.display =\n",
              "        google.colab.kernel.accessAllowed ? 'block' : 'none';\n",
              "\n",
              "      async function convertToInteractive(key) {\n",
              "        const element = document.querySelector('#df-acf58dd9-682a-4c08-9af9-3d6ad184fe7a');\n",
              "        const dataTable =\n",
              "          await google.colab.kernel.invokeFunction('convertToInteractive',\n",
              "                                                    [key], {});\n",
              "        if (!dataTable) return;\n",
              "\n",
              "        const docLinkHtml = 'Like what you see? Visit the ' +\n",
              "          '<a target=\"_blank\" href=https://colab.research.google.com/notebooks/data_table.ipynb>data table notebook</a>'\n",
              "          + ' to learn more about interactive tables.';\n",
              "        element.innerHTML = '';\n",
              "        dataTable['output_type'] = 'display_data';\n",
              "        await google.colab.output.renderOutput(dataTable, element);\n",
              "        const docLink = document.createElement('div');\n",
              "        docLink.innerHTML = docLinkHtml;\n",
              "        element.appendChild(docLink);\n",
              "      }\n",
              "    </script>\n",
              "  </div>\n",
              "\n",
              "\n",
              "<div id=\"df-98dfb068-ced6-4e99-9986-8d4299f39ec4\">\n",
              "  <button class=\"colab-df-quickchart\" onclick=\"quickchart('df-98dfb068-ced6-4e99-9986-8d4299f39ec4')\"\n",
              "            title=\"Suggest charts.\"\n",
              "            style=\"display:none;\">\n",
              "\n",
              "<svg xmlns=\"http://www.w3.org/2000/svg\" height=\"24px\"viewBox=\"0 0 24 24\"\n",
              "     width=\"24px\">\n",
              "    <g>\n",
              "        <path d=\"M19 3H5c-1.1 0-2 .9-2 2v14c0 1.1.9 2 2 2h14c1.1 0 2-.9 2-2V5c0-1.1-.9-2-2-2zM9 17H7v-7h2v7zm4 0h-2V7h2v10zm4 0h-2v-4h2v4z\"/>\n",
              "    </g>\n",
              "</svg>\n",
              "  </button>\n",
              "\n",
              "<style>\n",
              "  .colab-df-quickchart {\n",
              "      --bg-color: #E8F0FE;\n",
              "      --fill-color: #1967D2;\n",
              "      --hover-bg-color: #E2EBFA;\n",
              "      --hover-fill-color: #174EA6;\n",
              "      --disabled-fill-color: #AAA;\n",
              "      --disabled-bg-color: #DDD;\n",
              "  }\n",
              "\n",
              "  [theme=dark] .colab-df-quickchart {\n",
              "      --bg-color: #3B4455;\n",
              "      --fill-color: #D2E3FC;\n",
              "      --hover-bg-color: #434B5C;\n",
              "      --hover-fill-color: #FFFFFF;\n",
              "      --disabled-bg-color: #3B4455;\n",
              "      --disabled-fill-color: #666;\n",
              "  }\n",
              "\n",
              "  .colab-df-quickchart {\n",
              "    background-color: var(--bg-color);\n",
              "    border: none;\n",
              "    border-radius: 50%;\n",
              "    cursor: pointer;\n",
              "    display: none;\n",
              "    fill: var(--fill-color);\n",
              "    height: 32px;\n",
              "    padding: 0;\n",
              "    width: 32px;\n",
              "  }\n",
              "\n",
              "  .colab-df-quickchart:hover {\n",
              "    background-color: var(--hover-bg-color);\n",
              "    box-shadow: 0 1px 2px rgba(60, 64, 67, 0.3), 0 1px 3px 1px rgba(60, 64, 67, 0.15);\n",
              "    fill: var(--button-hover-fill-color);\n",
              "  }\n",
              "\n",
              "  .colab-df-quickchart-complete:disabled,\n",
              "  .colab-df-quickchart-complete:disabled:hover {\n",
              "    background-color: var(--disabled-bg-color);\n",
              "    fill: var(--disabled-fill-color);\n",
              "    box-shadow: none;\n",
              "  }\n",
              "\n",
              "  .colab-df-spinner {\n",
              "    border: 2px solid var(--fill-color);\n",
              "    border-color: transparent;\n",
              "    border-bottom-color: var(--fill-color);\n",
              "    animation:\n",
              "      spin 1s steps(1) infinite;\n",
              "  }\n",
              "\n",
              "  @keyframes spin {\n",
              "    0% {\n",
              "      border-color: transparent;\n",
              "      border-bottom-color: var(--fill-color);\n",
              "      border-left-color: var(--fill-color);\n",
              "    }\n",
              "    20% {\n",
              "      border-color: transparent;\n",
              "      border-left-color: var(--fill-color);\n",
              "      border-top-color: var(--fill-color);\n",
              "    }\n",
              "    30% {\n",
              "      border-color: transparent;\n",
              "      border-left-color: var(--fill-color);\n",
              "      border-top-color: var(--fill-color);\n",
              "      border-right-color: var(--fill-color);\n",
              "    }\n",
              "    40% {\n",
              "      border-color: transparent;\n",
              "      border-right-color: var(--fill-color);\n",
              "      border-top-color: var(--fill-color);\n",
              "    }\n",
              "    60% {\n",
              "      border-color: transparent;\n",
              "      border-right-color: var(--fill-color);\n",
              "    }\n",
              "    80% {\n",
              "      border-color: transparent;\n",
              "      border-right-color: var(--fill-color);\n",
              "      border-bottom-color: var(--fill-color);\n",
              "    }\n",
              "    90% {\n",
              "      border-color: transparent;\n",
              "      border-bottom-color: var(--fill-color);\n",
              "    }\n",
              "  }\n",
              "</style>\n",
              "\n",
              "  <script>\n",
              "    async function quickchart(key) {\n",
              "      const quickchartButtonEl =\n",
              "        document.querySelector('#' + key + ' button');\n",
              "      quickchartButtonEl.disabled = true;  // To prevent multiple clicks.\n",
              "      quickchartButtonEl.classList.add('colab-df-spinner');\n",
              "      try {\n",
              "        const charts = await google.colab.kernel.invokeFunction(\n",
              "            'suggestCharts', [key], {});\n",
              "      } catch (error) {\n",
              "        console.error('Error during call to suggestCharts:', error);\n",
              "      }\n",
              "      quickchartButtonEl.classList.remove('colab-df-spinner');\n",
              "      quickchartButtonEl.classList.add('colab-df-quickchart-complete');\n",
              "    }\n",
              "    (() => {\n",
              "      let quickchartButtonEl =\n",
              "        document.querySelector('#df-98dfb068-ced6-4e99-9986-8d4299f39ec4 button');\n",
              "      quickchartButtonEl.style.display =\n",
              "        google.colab.kernel.accessAllowed ? 'block' : 'none';\n",
              "    })();\n",
              "  </script>\n",
              "</div>\n",
              "    </div>\n",
              "  </div>\n"
            ]
          },
          "metadata": {},
          "execution_count": 27
        }
      ]
    },
    {
      "cell_type": "code",
      "source": [
        "df.info()"
      ],
      "metadata": {
        "colab": {
          "base_uri": "https://localhost:8080/"
        },
        "id": "1Qx2DLtFk5GT",
        "outputId": "be82a990-15c8-494b-8d1e-bc871c03bb04"
      },
      "execution_count": null,
      "outputs": [
        {
          "output_type": "stream",
          "name": "stdout",
          "text": [
            "<class 'pandas.core.frame.DataFrame'>\n",
            "RangeIndex: 500 entries, 0 to 499\n",
            "Data columns (total 9 columns):\n",
            " #   Column               Non-Null Count  Dtype  \n",
            "---  ------               --------------  -----  \n",
            " 0   customer name        500 non-null    object \n",
            " 1   customer e-mail      500 non-null    object \n",
            " 2   country              500 non-null    object \n",
            " 3   gender               500 non-null    int64  \n",
            " 4   age                  500 non-null    float64\n",
            " 5   annual Salary        500 non-null    float64\n",
            " 6   credit card debt     500 non-null    float64\n",
            " 7   net worth            500 non-null    float64\n",
            " 8   car purchase amount  500 non-null    float64\n",
            "dtypes: float64(5), int64(1), object(3)\n",
            "memory usage: 35.3+ KB\n"
          ]
        }
      ]
    },
    {
      "cell_type": "code",
      "source": [
        "df=df.drop(columns=['customer name', 'customer e-mail'])"
      ],
      "metadata": {
        "id": "KCYn5-MMlCeQ"
      },
      "execution_count": null,
      "outputs": []
    },
    {
      "cell_type": "markdown",
      "source": [
        "# BUILDING A NEURAL NETWORK"
      ],
      "metadata": {
        "id": "9PLawI62SWJz"
      }
    },
    {
      "cell_type": "code",
      "source": [
        "from sklearn.preprocessing import LabelEncoder\n",
        "# Initialize the LabelEncoder for 'country' and 'gender'\n",
        "label_encoder = LabelEncoder()\n",
        "\n",
        "# Encode 'country' column\n",
        "df['country'] = label_encoder.fit_transform(df['country'])\n",
        "\n",
        "# Encode 'gender' column\n",
        "df['gender'] = label_encoder.fit_transform(df['gender'])"
      ],
      "metadata": {
        "id": "nh8iFv1ilpBr"
      },
      "execution_count": null,
      "outputs": []
    },
    {
      "cell_type": "code",
      "source": [
        "X = df.drop('car purchase amount', axis=1)\n",
        "y = df['car purchase amount']"
      ],
      "metadata": {
        "id": "DLBGNFdElvZ1"
      },
      "execution_count": null,
      "outputs": []
    },
    {
      "cell_type": "code",
      "source": [
        "from sklearn.preprocessing import MinMaxScaler\n",
        "from sklearn.model_selection import train_test_split\n",
        "\n",
        "# Initialize the MinMaxScaler\n",
        "scaler = MinMaxScaler()\n",
        "\n",
        "# Scale the feature matrix X\n",
        "X = scaler.fit_transform(X)\n",
        "\n",
        "# Scale the target variable y\n",
        "y = scaler.fit_transform(y.values.reshape(-1, 1))\n",
        "\n",
        "# Split the data into training and testing sets\n",
        "X_train, X_test, y_train, y_test = train_test_split(X, y, test_size=0.2, random_state=0)\n",
        "\n",
        "# Print the shapes of the resulting datasets\n",
        "print(\"X_train shape:\", X_train.shape)\n",
        "print(\"y_train shape:\", y_train.shape)\n",
        "print(\"X_test shape:\", X_test.shape)\n",
        "print(\"y_test shape:\", y_test.shape)\n"
      ],
      "metadata": {
        "colab": {
          "base_uri": "https://localhost:8080/"
        },
        "id": "DiaQtbmzl-Oi",
        "outputId": "8446f951-7a82-4ceb-b961-47a9c7867678"
      },
      "execution_count": null,
      "outputs": [
        {
          "output_type": "stream",
          "name": "stdout",
          "text": [
            "X_train shape: (400, 6)\n",
            "y_train shape: (400, 1)\n",
            "X_test shape: (100, 6)\n",
            "y_test shape: (100, 1)\n"
          ]
        }
      ]
    },
    {
      "cell_type": "code",
      "source": [
        "from keras.models import Sequential\n",
        "from keras.layers import Dense\n",
        "\n",
        "# Initialize a sequential model\n",
        "model = Sequential()\n",
        "# Add the first hidden layer with 20 neurons, ReLU activation, and input dimension of 6\n",
        "model.add(Dense(20, activation='relu', input_dim=6))\n",
        "# Add the second hidden layer with 15 neurons and ReLU activation\n",
        "model.add(Dense(15, activation='relu'))\n",
        "# Add the second hidden layer with 10 neurons and ReLU activation\n",
        "model.add(Dense(10, activation='relu'))\n",
        "# Add the output layer with 1 neuron and linear (identity) activation\n",
        "model.add(Dense(1, activation='linear'))\n",
        "\n",
        "# Compile the model using the Adam optimizer, mean squared error loss, and mean absolute error as a metric\n",
        "model.compile(optimizer='adam', loss='mean_squared_error', metrics=['mean_absolute_error'])\n",
        "\n",
        "# Display a summary of the model's architecture\n",
        "model.summary()\n"
      ],
      "metadata": {
        "colab": {
          "base_uri": "https://localhost:8080/"
        },
        "id": "frRxn88wmJpF",
        "outputId": "b8105a7d-1cf8-4b45-dc55-f9e63e419a8e"
      },
      "execution_count": null,
      "outputs": [
        {
          "output_type": "stream",
          "name": "stdout",
          "text": [
            "Model: \"sequential_2\"\n",
            "_________________________________________________________________\n",
            " Layer (type)                Output Shape              Param #   \n",
            "=================================================================\n",
            " dense_7 (Dense)             (None, 20)                140       \n",
            "                                                                 \n",
            " dense_8 (Dense)             (None, 15)                315       \n",
            "                                                                 \n",
            " dense_9 (Dense)             (None, 10)                160       \n",
            "                                                                 \n",
            " dense_10 (Dense)            (None, 1)                 11        \n",
            "                                                                 \n",
            "=================================================================\n",
            "Total params: 626\n",
            "Trainable params: 626\n",
            "Non-trainable params: 0\n",
            "_________________________________________________________________\n"
          ]
        }
      ]
    },
    {
      "cell_type": "code",
      "source": [
        "history = model.fit(X_train, y_train, epochs=50, validation_split=0.2)"
      ],
      "metadata": {
        "colab": {
          "base_uri": "https://localhost:8080/"
        },
        "id": "Tqh-mn25nJfb",
        "outputId": "dba13ec7-c71c-4dc9-ec8c-a27cb18414a2"
      },
      "execution_count": null,
      "outputs": [
        {
          "output_type": "stream",
          "name": "stdout",
          "text": [
            "Epoch 1/50\n",
            "10/10 [==============================] - 1s 21ms/step - loss: 0.3868 - mean_absolute_error: 0.5859 - val_loss: 0.2538 - val_mean_absolute_error: 0.4606\n",
            "Epoch 2/50\n",
            "10/10 [==============================] - 0s 6ms/step - loss: 0.1579 - mean_absolute_error: 0.3579 - val_loss: 0.0905 - val_mean_absolute_error: 0.2569\n",
            "Epoch 3/50\n",
            "10/10 [==============================] - 0s 7ms/step - loss: 0.0471 - mean_absolute_error: 0.1753 - val_loss: 0.0293 - val_mean_absolute_error: 0.1376\n",
            "Epoch 4/50\n",
            "10/10 [==============================] - 0s 7ms/step - loss: 0.0194 - mean_absolute_error: 0.1094 - val_loss: 0.0201 - val_mean_absolute_error: 0.1136\n",
            "Epoch 5/50\n",
            "10/10 [==============================] - 0s 7ms/step - loss: 0.0180 - mean_absolute_error: 0.1054 - val_loss: 0.0190 - val_mean_absolute_error: 0.1111\n",
            "Epoch 6/50\n",
            "10/10 [==============================] - 0s 6ms/step - loss: 0.0164 - mean_absolute_error: 0.1006 - val_loss: 0.0174 - val_mean_absolute_error: 0.1062\n",
            "Epoch 7/50\n",
            "10/10 [==============================] - 0s 6ms/step - loss: 0.0147 - mean_absolute_error: 0.0949 - val_loss: 0.0169 - val_mean_absolute_error: 0.1044\n",
            "Epoch 8/50\n",
            "10/10 [==============================] - 0s 7ms/step - loss: 0.0136 - mean_absolute_error: 0.0915 - val_loss: 0.0161 - val_mean_absolute_error: 0.1022\n",
            "Epoch 9/50\n",
            "10/10 [==============================] - 0s 7ms/step - loss: 0.0126 - mean_absolute_error: 0.0881 - val_loss: 0.0148 - val_mean_absolute_error: 0.0982\n",
            "Epoch 10/50\n",
            "10/10 [==============================] - 0s 6ms/step - loss: 0.0119 - mean_absolute_error: 0.0848 - val_loss: 0.0138 - val_mean_absolute_error: 0.0953\n",
            "Epoch 11/50\n",
            "10/10 [==============================] - 0s 6ms/step - loss: 0.0112 - mean_absolute_error: 0.0825 - val_loss: 0.0131 - val_mean_absolute_error: 0.0930\n",
            "Epoch 12/50\n",
            "10/10 [==============================] - 0s 7ms/step - loss: 0.0107 - mean_absolute_error: 0.0807 - val_loss: 0.0126 - val_mean_absolute_error: 0.0913\n",
            "Epoch 13/50\n",
            "10/10 [==============================] - 0s 8ms/step - loss: 0.0101 - mean_absolute_error: 0.0779 - val_loss: 0.0119 - val_mean_absolute_error: 0.0889\n",
            "Epoch 14/50\n",
            "10/10 [==============================] - 0s 5ms/step - loss: 0.0095 - mean_absolute_error: 0.0755 - val_loss: 0.0112 - val_mean_absolute_error: 0.0862\n",
            "Epoch 15/50\n",
            "10/10 [==============================] - 0s 6ms/step - loss: 0.0089 - mean_absolute_error: 0.0729 - val_loss: 0.0107 - val_mean_absolute_error: 0.0839\n",
            "Epoch 16/50\n",
            "10/10 [==============================] - 0s 6ms/step - loss: 0.0083 - mean_absolute_error: 0.0705 - val_loss: 0.0102 - val_mean_absolute_error: 0.0825\n",
            "Epoch 17/50\n",
            "10/10 [==============================] - 0s 5ms/step - loss: 0.0078 - mean_absolute_error: 0.0680 - val_loss: 0.0094 - val_mean_absolute_error: 0.0790\n",
            "Epoch 18/50\n",
            "10/10 [==============================] - 0s 5ms/step - loss: 0.0072 - mean_absolute_error: 0.0651 - val_loss: 0.0089 - val_mean_absolute_error: 0.0769\n",
            "Epoch 19/50\n",
            "10/10 [==============================] - 0s 8ms/step - loss: 0.0066 - mean_absolute_error: 0.0626 - val_loss: 0.0081 - val_mean_absolute_error: 0.0736\n",
            "Epoch 20/50\n",
            "10/10 [==============================] - 0s 7ms/step - loss: 0.0060 - mean_absolute_error: 0.0602 - val_loss: 0.0075 - val_mean_absolute_error: 0.0708\n",
            "Epoch 21/50\n",
            "10/10 [==============================] - 0s 6ms/step - loss: 0.0056 - mean_absolute_error: 0.0579 - val_loss: 0.0068 - val_mean_absolute_error: 0.0673\n",
            "Epoch 22/50\n",
            "10/10 [==============================] - 0s 7ms/step - loss: 0.0049 - mean_absolute_error: 0.0545 - val_loss: 0.0063 - val_mean_absolute_error: 0.0643\n",
            "Epoch 23/50\n",
            "10/10 [==============================] - 0s 6ms/step - loss: 0.0044 - mean_absolute_error: 0.0520 - val_loss: 0.0054 - val_mean_absolute_error: 0.0598\n",
            "Epoch 24/50\n",
            "10/10 [==============================] - 0s 6ms/step - loss: 0.0038 - mean_absolute_error: 0.0484 - val_loss: 0.0050 - val_mean_absolute_error: 0.0567\n",
            "Epoch 25/50\n",
            "10/10 [==============================] - 0s 7ms/step - loss: 0.0033 - mean_absolute_error: 0.0455 - val_loss: 0.0041 - val_mean_absolute_error: 0.0517\n",
            "Epoch 26/50\n",
            "10/10 [==============================] - 0s 6ms/step - loss: 0.0028 - mean_absolute_error: 0.0420 - val_loss: 0.0036 - val_mean_absolute_error: 0.0476\n",
            "Epoch 27/50\n",
            "10/10 [==============================] - 0s 6ms/step - loss: 0.0024 - mean_absolute_error: 0.0384 - val_loss: 0.0032 - val_mean_absolute_error: 0.0444\n",
            "Epoch 28/50\n",
            "10/10 [==============================] - 0s 6ms/step - loss: 0.0020 - mean_absolute_error: 0.0350 - val_loss: 0.0025 - val_mean_absolute_error: 0.0395\n",
            "Epoch 29/50\n",
            "10/10 [==============================] - 0s 6ms/step - loss: 0.0017 - mean_absolute_error: 0.0321 - val_loss: 0.0023 - val_mean_absolute_error: 0.0367\n",
            "Epoch 30/50\n",
            "10/10 [==============================] - 0s 7ms/step - loss: 0.0015 - mean_absolute_error: 0.0295 - val_loss: 0.0022 - val_mean_absolute_error: 0.0356\n",
            "Epoch 31/50\n",
            "10/10 [==============================] - 0s 5ms/step - loss: 0.0013 - mean_absolute_error: 0.0278 - val_loss: 0.0018 - val_mean_absolute_error: 0.0315\n",
            "Epoch 32/50\n",
            "10/10 [==============================] - 0s 5ms/step - loss: 0.0012 - mean_absolute_error: 0.0258 - val_loss: 0.0016 - val_mean_absolute_error: 0.0295\n",
            "Epoch 33/50\n",
            "10/10 [==============================] - 0s 5ms/step - loss: 0.0010 - mean_absolute_error: 0.0239 - val_loss: 0.0016 - val_mean_absolute_error: 0.0297\n",
            "Epoch 34/50\n",
            "10/10 [==============================] - 0s 6ms/step - loss: 8.8982e-04 - mean_absolute_error: 0.0225 - val_loss: 0.0014 - val_mean_absolute_error: 0.0272\n",
            "Epoch 35/50\n",
            "10/10 [==============================] - 0s 6ms/step - loss: 7.6768e-04 - mean_absolute_error: 0.0204 - val_loss: 0.0013 - val_mean_absolute_error: 0.0251\n",
            "Epoch 36/50\n",
            "10/10 [==============================] - 0s 6ms/step - loss: 6.8963e-04 - mean_absolute_error: 0.0193 - val_loss: 0.0012 - val_mean_absolute_error: 0.0245\n",
            "Epoch 37/50\n",
            "10/10 [==============================] - 0s 6ms/step - loss: 6.2705e-04 - mean_absolute_error: 0.0182 - val_loss: 0.0011 - val_mean_absolute_error: 0.0229\n",
            "Epoch 38/50\n",
            "10/10 [==============================] - 0s 6ms/step - loss: 5.6832e-04 - mean_absolute_error: 0.0174 - val_loss: 0.0010 - val_mean_absolute_error: 0.0213\n",
            "Epoch 39/50\n",
            "10/10 [==============================] - 0s 6ms/step - loss: 5.2251e-04 - mean_absolute_error: 0.0163 - val_loss: 9.7720e-04 - val_mean_absolute_error: 0.0203\n",
            "Epoch 40/50\n",
            "10/10 [==============================] - 0s 6ms/step - loss: 4.6541e-04 - mean_absolute_error: 0.0156 - val_loss: 0.0010 - val_mean_absolute_error: 0.0211\n",
            "Epoch 41/50\n",
            "10/10 [==============================] - 0s 6ms/step - loss: 4.3358e-04 - mean_absolute_error: 0.0147 - val_loss: 9.6860e-04 - val_mean_absolute_error: 0.0200\n",
            "Epoch 42/50\n",
            "10/10 [==============================] - 0s 7ms/step - loss: 4.0168e-04 - mean_absolute_error: 0.0140 - val_loss: 8.7227e-04 - val_mean_absolute_error: 0.0181\n",
            "Epoch 43/50\n",
            "10/10 [==============================] - 0s 6ms/step - loss: 3.6983e-04 - mean_absolute_error: 0.0133 - val_loss: 8.6348e-04 - val_mean_absolute_error: 0.0177\n",
            "Epoch 44/50\n",
            "10/10 [==============================] - 0s 6ms/step - loss: 3.4632e-04 - mean_absolute_error: 0.0132 - val_loss: 8.9923e-04 - val_mean_absolute_error: 0.0190\n",
            "Epoch 45/50\n",
            "10/10 [==============================] - 0s 6ms/step - loss: 3.3520e-04 - mean_absolute_error: 0.0129 - val_loss: 9.5728e-04 - val_mean_absolute_error: 0.0206\n",
            "Epoch 46/50\n",
            "10/10 [==============================] - 0s 6ms/step - loss: 3.6152e-04 - mean_absolute_error: 0.0140 - val_loss: 7.8837e-04 - val_mean_absolute_error: 0.0171\n",
            "Epoch 47/50\n",
            "10/10 [==============================] - 0s 6ms/step - loss: 3.2442e-04 - mean_absolute_error: 0.0133 - val_loss: 7.3483e-04 - val_mean_absolute_error: 0.0171\n",
            "Epoch 48/50\n",
            "10/10 [==============================] - 0s 6ms/step - loss: 2.9770e-04 - mean_absolute_error: 0.0122 - val_loss: 7.1320e-04 - val_mean_absolute_error: 0.0161\n",
            "Epoch 49/50\n",
            "10/10 [==============================] - 0s 6ms/step - loss: 2.7209e-04 - mean_absolute_error: 0.0119 - val_loss: 7.2574e-04 - val_mean_absolute_error: 0.0161\n",
            "Epoch 50/50\n",
            "10/10 [==============================] - 0s 8ms/step - loss: 2.5174e-04 - mean_absolute_error: 0.0113 - val_loss: 6.8254e-04 - val_mean_absolute_error: 0.0161\n"
          ]
        }
      ]
    },
    {
      "cell_type": "code",
      "source": [
        "y_pred = model.predict(X_test)"
      ],
      "metadata": {
        "colab": {
          "base_uri": "https://localhost:8080/"
        },
        "id": "9KBShrLMnP82",
        "outputId": "e40db5ac-618a-414a-9a11-fa20916d292e"
      },
      "execution_count": null,
      "outputs": [
        {
          "output_type": "stream",
          "name": "stdout",
          "text": [
            "4/4 [==============================] - 0s 2ms/step\n"
          ]
        }
      ]
    },
    {
      "cell_type": "code",
      "source": [
        "from sklearn.metrics import r2_score\n",
        "\n",
        "R2 = r2_score(y_test, y_pred)\n",
        "print(\"R2 Score=\",R2 )"
      ],
      "metadata": {
        "colab": {
          "base_uri": "https://localhost:8080/"
        },
        "id": "GE_Na8NkncO7",
        "outputId": "57af298c-ac08-4137-c5da-09e11bc24a02"
      },
      "execution_count": null,
      "outputs": [
        {
          "output_type": "stream",
          "name": "stdout",
          "text": [
            "R2 Score= 0.9829083403692495\n"
          ]
        }
      ]
    }
  ]
}